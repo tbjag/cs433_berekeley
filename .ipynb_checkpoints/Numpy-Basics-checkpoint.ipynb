{
 "cells": [
  {
   "cell_type": "code",
   "execution_count": null,
   "metadata": {
    "collapsed": true
   },
   "outputs": [],
   "source": [
    "# http://people.duke.edu/~ccc14/pcfb/numpympl/NumpyBasics.html\n",
    "# https://docs.scipy.org/doc/numpy-dev/user/quickstart.html\n",
    "# http://www.engr.ucsb.edu/~shell/che210d/numpy.pdf\n",
    "# http://www.labri.fr/perso/nrougier/teaching/numpy/numpy.html\n",
    "# http://www.labri.fr/perso/nrougier/teaching/numpy.100/\n",
    "\n",
    "# NUMPY TO MATLAB - https://docs.scipy.org/doc/numpy-dev/user/numpy-for-matlab-users.html"
   ]
  },
  {
   "cell_type": "code",
   "execution_count": 1,
   "metadata": {},
   "outputs": [],
   "source": [
    "import numpy as np"
   ]
  },
  {
   "cell_type": "markdown",
   "metadata": {},
   "source": [
    "## NDARRAY\n",
    "An ndaray is a n-dimensional array where all items are of the same type (unlike a Python data structure) and consequently use the same amount of space. There are 21 different types of objects (also called dtypes) that can be stored in ndarray. They are\n",
    "* bool_ \n",
    "* byte\n",
    "* short\n",
    "* intc\n",
    "* int_\n",
    "* longlong\n",
    "* intp\n",
    "* ubyte\n",
    "* ushort\n",
    "* uintc\n",
    "* uint\n",
    "* ulonglong\n",
    "* uintp\n",
    "* single\n",
    "* float_\n",
    "* longfloat\n",
    "* csingl\n",
    "* complex_\n",
    "* clongfloat\n",
    "* object_\n",
    "* str_\n",
    "* unicode_\n",
    "* void\n",
    "\n",
    "For some of the dtypes, a _ to differentiate that dtype from the corresponding Python type. Such types are also called as 'enhanced scalars).  They have the same precision as the Python type.\n",
    "\n",
    "All the types except the str_, unicode_ and void are of fixed size. "
   ]
  },
  {
   "cell_type": "code",
   "execution_count": 2,
   "metadata": {},
   "outputs": [
    {
     "name": "stdout",
     "output_type": "stream",
     "text": [
      "[0 1 2 3 4 5 6 7] <class 'numpy.ndarray'> int32\n"
     ]
    }
   ],
   "source": [
    "# Creating a simple ndarray\n",
    "a = np.arange(8) # similar to range(8)\n",
    "print(a, type(a), a.dtype)"
   ]
  },
  {
   "cell_type": "code",
   "execution_count": 4,
   "metadata": {},
   "outputs": [
    {
     "name": "stdout",
     "output_type": "stream",
     "text": [
      "3 <class 'numpy.int64'>\n",
      "[2 3 4] <class 'numpy.ndarray'>\n"
     ]
    }
   ],
   "source": [
    "# Indexing\n",
    "print(a[3], type(a[3])) # since there is only one value, its type is the type of each element\n",
    "print(a[2:5], type(a[2:5])) # The slicing results in an ndarray"
   ]
  },
  {
   "cell_type": "code",
   "execution_count": 5,
   "metadata": {},
   "outputs": [
    {
     "name": "stdout",
     "output_type": "stream",
     "text": [
      "[ 0.          0.84147098  0.90929743  0.14112001 -0.7568025  -0.95892427\n",
      " -0.2794155   0.6569866 ]\n",
      "[ 0.          1.84147098  2.90929743  3.14112001  3.2431975   4.04107573\n",
      "  5.7205845   7.6569866 ]\n"
     ]
    }
   ],
   "source": [
    "# Universal functions or ufunc\n",
    "# They perform element by element operation on an ndarray.\n",
    "b = np.sin(a)\n",
    "print(b)\n",
    "\n",
    "c = a+b#np.add(a, b)\n",
    "print(c)\n",
    "\n",
    "# For a full list of ufunc, visit \n",
    "# http://docs.scipy.org/doc/numpy/reference/ufuncs.html"
   ]
  },
  {
   "cell_type": "code",
   "execution_count": 8,
   "metadata": {},
   "outputs": [
    {
     "name": "stdout",
     "output_type": "stream",
     "text": [
      "[ 3  4  5  6  7  8  9 10]\n"
     ]
    }
   ],
   "source": [
    "# In the case of add function, a and b both had same sized vector.\n",
    "# What happens if they are of different sizes as in the example below\n",
    "d = np.add(a, 3)\n",
    "print(d)\n",
    "\n",
    "# The meaning of adding a which is a vector to a scalar 3 is done by \n",
    "# adding each element in a with the value 3. In otherwords, the value 3\n",
    "# was 'broadcast' to each element in a and added."
   ]
  },
  {
   "cell_type": "code",
   "execution_count": 12,
   "metadata": {},
   "outputs": [
    {
     "name": "stdout",
     "output_type": "stream",
     "text": [
      "Shape is:  (8,) 8\n",
      "Number of dimensions are:  1\n",
      "Data type:  float64\n",
      "Itemsize:  8\n",
      "type:  <class 'numpy.ndarray'>\n",
      "dir:  ['__bool__', '__class__', '__delattr__', '__dir__', '__doc__', '__eq__', '__format__', '__ge__', '__getattribute__', '__getitem__', '__gt__', '__hash__', '__init__', '__le__', '__len__', '__lt__', '__mul__', '__ne__', '__new__', '__reduce__', '__reduce_ex__', '__repr__', '__rmul__', '__setattr__', '__setstate__', '__sizeof__', '__str__', '__subclasshook__', 'alignment', 'base', 'byteorder', 'char', 'descr', 'fields', 'flags', 'hasobject', 'isalignedstruct', 'isbuiltin', 'isnative', 'itemsize', 'kind', 'metadata', 'name', 'names', 'ndim', 'newbyteorder', 'num', 'shape', 'str', 'subdtype', 'type']\n"
     ]
    }
   ],
   "source": [
    "# NDARRAY attributes\n",
    "\n",
    "print(\"Shape is: \", b.shape, b.size) # Size of the matrix\n",
    "print(\"Number of dimensions are: \", b.ndim) # Number of dimensions\n",
    "print(\"Data type: \", b.dtype) # Data type of each element\n",
    "print(\"Itemsize: \", b.itemsize) # Memory occupied by each element\n",
    "print(\"type: \", type(b))  # Type of b\n",
    "print(\"dir: \", dir(b.dtype))"
   ]
  },
  {
   "cell_type": "markdown",
   "metadata": {},
   "source": [
    "### ARRAY CONVERSION"
   ]
  },
  {
   "cell_type": "code",
   "execution_count": 13,
   "metadata": {},
   "outputs": [
    {
     "name": "stdout",
     "output_type": "stream",
     "text": [
      "[0.0, 0.8414709848078965, 0.9092974268256817, 0.1411200080598672, -0.7568024953079282, -0.9589242746631385, -0.27941549819892586, 0.6569865987187891]\n"
     ]
    }
   ],
   "source": [
    "print(b.tolist()) # convert ndarray b to list"
   ]
  },
  {
   "cell_type": "code",
   "execution_count": 15,
   "metadata": {
    "collapsed": true
   },
   "outputs": [],
   "source": [
    "# Write the vector b to a csv file with 3 precision\n",
    "b.tofile(file=\"data.csv\", sep=\",\", format=\"%0.3f\")"
   ]
  },
  {
   "cell_type": "code",
   "execution_count": 11,
   "metadata": {
    "inputHidden": false,
    "outputHidden": false
   },
   "outputs": [
    {
     "name": "stdout",
     "output_type": "stream",
     "text": [
      "[0 1 2 3 4 5 6 7] [ 0.          0.84147098  0.90929743  0.14112001 -0.7568025  -0.95892427\n",
      " -0.2794155   0.6569866 ] int64\n",
      "[ 0.  1.  2.  3.  4.  5.  6.  7.] [ 0.          0.84147098  0.90929743  0.14112001 -0.7568025  -0.95892427\n",
      " -0.2794155   0.6569866 ] float64\n"
     ]
    }
   ],
   "source": [
    "np.save('b.npy', [a, b])\n",
    "# Read more about npy format at https://docs.scipy.org/doc/numpy/neps/npy-format.html\n",
    "c1, d1 = np.load('b.npy')\n",
    "print(a, b, a.dtype)\n",
    "print(c1, d1, c1.dtype)"
   ]
  },
  {
   "cell_type": "markdown",
   "metadata": {},
   "source": [
    "### ARRAY SHAPE "
   ]
  },
  {
   "cell_type": "code",
   "execution_count": 20,
   "metadata": {},
   "outputs": [
    {
     "name": "stdout",
     "output_type": "stream",
     "text": [
      "[[0 1 2 3]\n",
      " [4 5 6 7]] [0 1 2 3 4 5 6 7] (2, 4)\n"
     ]
    }
   ],
   "source": [
    "a = np.arange(8)\n",
    "b = a.reshape((2, 4), order='C') # Change the matrix to size 2x4\n",
    "print(b, a, b.shape)"
   ]
  },
  {
   "cell_type": "code",
   "execution_count": 19,
   "metadata": {},
   "outputs": [
    {
     "name": "stdout",
     "output_type": "stream",
     "text": [
      "None\n",
      "[[0 1]\n",
      " [2 3]\n",
      " [4 5]\n",
      " [6 7]]\n"
     ]
    }
   ],
   "source": [
    "c = a.resize((4, 2))\n",
    "print(c) # None as resize modifies inplace while reshape creates a new array\n",
    "print(a)"
   ]
  },
  {
   "cell_type": "code",
   "execution_count": 19,
   "metadata": {},
   "outputs": [
    {
     "name": "stdout",
     "output_type": "stream",
     "text": [
      "[0 1 2 3 4 5 6 7]\n",
      "[6 1 2 3 4 5 6 7]\n",
      "[[0 1 2 3]\n",
      " [4 5 6 7]]\n"
     ]
    }
   ],
   "source": [
    "a = np.arange(8).reshape((2, 4), order='C' )\n",
    "flat_a = a.flatten()\n",
    "print(flat_a) # Convert to 1D vector\n",
    "flat_a[0]= 6\n",
    "print(flat_a)\n",
    "print(a) \n",
    "# Since flat_a is a new copy, any change to flat_a does not affect a"
   ]
  },
  {
   "cell_type": "code",
   "execution_count": 21,
   "metadata": {},
   "outputs": [
    {
     "name": "stdout",
     "output_type": "stream",
     "text": [
      "[0 1 2 3 4 5 6 7]\n",
      "[6 1 2 3 4 5 6 7]\n",
      "[[6 1 2 3]\n",
      " [4 5 6 7]]\n"
     ]
    }
   ],
   "source": [
    "a = np.arange(8).reshape((2, 4), order='C' )\n",
    "ravel_a = a.ravel() # Convert to 1D vector\n",
    "print(ravel_a)\n",
    "ravel_a[0]= 6\n",
    "print(ravel_a)\n",
    "print(a)\n",
    "# Since ravel_a is NOT a copy, any change to ravel_a affects a"
   ]
  },
  {
   "cell_type": "code",
   "execution_count": 21,
   "metadata": {},
   "outputs": [
    {
     "name": "stdout",
     "output_type": "stream",
     "text": [
      "[[4 1 2 3]\n",
      " [4 5 6 7]]\n",
      "[[4 1 2 3]\n",
      " [4 5 6 7]]\n"
     ]
    }
   ],
   "source": [
    "# Shallow copy\n",
    "d = a\n",
    "a[0][0] = 4\n",
    "print(a)\n",
    "print(d) # Note d and a will have same values even though we modified only a"
   ]
  },
  {
   "cell_type": "code",
   "execution_count": 22,
   "metadata": {},
   "outputs": [
    {
     "name": "stdout",
     "output_type": "stream",
     "text": [
      "[[3 1 2 3]\n",
      " [4 5 6 7]]\n",
      "[[4 1 2 3]\n",
      " [4 5 6 7]]\n"
     ]
    }
   ],
   "source": [
    "# Deep copy\n",
    "d = a.copy()\n",
    "a[0][0] = 3\n",
    "print(a)\n",
    "print(d) # Note d and a will have different values"
   ]
  },
  {
   "cell_type": "code",
   "execution_count": 44,
   "metadata": {},
   "outputs": [
    {
     "name": "stdout",
     "output_type": "stream",
     "text": [
      "[5 3 5 3 1 5 7 5 9 8 1 7 6 3 2 3 8 4 4 1 5 6 6 8 3 4 3 1 1 2 1 7 1 7 5 7 4\n",
      " 1 8 2 5 4 3 5 4 5 7 9 6 1 4 3 7 3 7 7 1 4 8 8 4 7 7 4 6 1 7 9 9 2 6 3 2 4\n",
      " 8 8 4 5 3 1 3 2 7 1 3 8 5 5 5 7 8 2 1 3 2 4 9 6 6 9]\n"
     ]
    }
   ],
   "source": [
    "a = np.random.randint(1, 10, (100,))\n",
    "print(a)"
   ]
  },
  {
   "cell_type": "markdown",
   "metadata": {},
   "source": [
    "## ARRAY MANIPULATION"
   ]
  },
  {
   "cell_type": "code",
   "execution_count": 46,
   "metadata": {},
   "outputs": [
    {
     "name": "stdout",
     "output_type": "stream",
     "text": [
      "[[ 0.97113463  0.92906228  0.84403312  0.29306667]\n",
      " [ 0.05952695  0.1634882   0.20129477  0.24278193]]\n",
      "[[ 0.29306667  0.84403312  0.92906228  0.97113463]\n",
      " [ 0.05952695  0.1634882   0.20129477  0.24278193]]\n"
     ]
    }
   ],
   "source": [
    "import numpy as np\n",
    "a = np.random.rand(2, 4)\n",
    "print(a)\n",
    "a.sort(axis=1) # sort(axis=-1, kind=’quick’, order=None)\n",
    "print(a)"
   ]
  },
  {
   "cell_type": "code",
   "execution_count": 29,
   "metadata": {},
   "outputs": [
    {
     "name": "stdout",
     "output_type": "stream",
     "text": [
      "[[0 1 1 0]\n",
      " [1 0 1 0]] int64\n",
      "(array([0, 0, 1, 1]), array([1, 2, 0, 2]))\n"
     ]
    }
   ],
   "source": [
    "a = np.random.rand(2, 4)*2\n",
    "a = a.astype(np.int) # casting to_cast()\n",
    "print(a, a.dtype)\n",
    "print(a.nonzero())"
   ]
  },
  {
   "cell_type": "markdown",
   "metadata": {},
   "source": [
    "### ARRAY CALCULATIONS"
   ]
  },
  {
   "cell_type": "code",
   "execution_count": 27,
   "metadata": {},
   "outputs": [
    {
     "name": "stdout",
     "output_type": "stream",
     "text": [
      "[[3 4]\n",
      " [3 3]]\n",
      "Any element is True\n",
      "Sum of all elements is 13\n",
      "The product of all element is 108\n",
      "The max of all element is 4\n"
     ]
    }
   ],
   "source": [
    "import numpy as np\n",
    "a = np.random.rand(2, 2)*5\n",
    "b = a.astype('int')\n",
    "print(b)\n",
    "print('Any element is {0}'.format(b.any()))\n",
    "print('Sum of all elements is {0}'.format(b.sum()))\n",
    "print('The product of all element is {0}'.format(b.prod()))\n",
    "print('The max of all element is {0}'.format(b.max()))"
   ]
  },
  {
   "cell_type": "markdown",
   "metadata": {},
   "source": [
    "### ARRAY INDEXING"
   ]
  },
  {
   "cell_type": "code",
   "execution_count": 54,
   "metadata": {},
   "outputs": [
    {
     "name": "stdout",
     "output_type": "stream",
     "text": [
      "[[0 4 3 3 2 1 4 2 3 0]\n",
      " [0 3 3 0 0 4 3 2 3 4]\n",
      " [3 4 2 0 2 0 3 3 3 3]\n",
      " [1 2 1 0 0 0 2 4 2 3]\n",
      " [1 0 4 2 4 1 0 0 1 4]\n",
      " [0 4 4 0 0 3 2 2 0 3]\n",
      " [1 3 3 0 0 0 0 1 0 4]\n",
      " [4 3 1 3 3 4 2 3 4 3]\n",
      " [2 2 1 0 2 0 2 3 4 1]\n",
      " [0 4 2 1 0 0 3 1 4 1]]\n",
      "The rows=1 and cols=2 element is 3\n",
      "The first col is [0 0 3 1 1 0 1 4 2 0]\n",
      "The third row is [3 4 2 0 2 0 3 3 3 3]\n"
     ]
    }
   ],
   "source": [
    "# Basic slicing\n",
    "import numpy as np\n",
    "a = np.random.rand(10, 10)*5\n",
    "b = a.astype('int')\n",
    "print(b)\n",
    "print('The rows=1 and cols=2 element is {0}'.format(b[1,2])) \n",
    "print('The first col is {0}'.format(b[:,0])) # rows, cols. all rows for cols=0\n",
    "print('The third row is {0}'.format(b[2, :])) # all cols for rows = 2"
   ]
  },
  {
   "cell_type": "markdown",
   "metadata": {
    "collapsed": true
   },
   "source": [
    "### ROUTINES"
   ]
  },
  {
   "cell_type": "code",
   "execution_count": 28,
   "metadata": {},
   "outputs": [
    {
     "name": "stdout",
     "output_type": "stream",
     "text": [
      "[ 4.  5.  6.] <class 'numpy.ndarray'> float32\n"
     ]
    }
   ],
   "source": [
    "# array(object=, dtype=None, copy=True, order=None, subok=False, ndmin=0)\n",
    "# Convert any object to a ndarray. If copy is set to True, then a new copy is made.\n",
    "# Convert a Python list or tuple to numpy array\n",
    "import numpy as np\n",
    "\n",
    "c = np.array((4, 5, 6), dtype=np.float32) # Change this to int and see the output\n",
    "print(c, type(c), c.dtype)\n",
    "\n",
    "# There is another method called 'asarray' which is same as 'array' except\n",
    "# that the copy defaults to False."
   ]
  },
  {
   "cell_type": "code",
   "execution_count": 55,
   "metadata": {},
   "outputs": [
    {
     "name": "stdout",
     "output_type": "stream",
     "text": [
      "[ 10.  12.  14.  16.  18.]\n"
     ]
    }
   ],
   "source": [
    "# Will create a linear list of values starting from 'start' and ends at 'stop-1'\n",
    "# in steps of 'step'\n",
    "d = np.arange(start=10, stop=20, step=2, dtype=np.float32)\n",
    "print(d)"
   ]
  },
  {
   "cell_type": "code",
   "execution_count": 30,
   "metadata": {},
   "outputs": [
    {
     "name": "stdout",
     "output_type": "stream",
     "text": [
      "[[0 0 0 0]\n",
      " [0 0 0 0]\n",
      " [0 0 0 0]]\n",
      "8 int64\n"
     ]
    }
   ],
   "source": [
    "d = np.zeros(shape=(3, 4), dtype=np.int64)\n",
    "print(d)\n",
    "print(d.itemsize, d.dtype)"
   ]
  },
  {
   "cell_type": "code",
   "execution_count": 31,
   "metadata": {},
   "outputs": [
    {
     "name": "stdout",
     "output_type": "stream",
     "text": [
      "[[1 1 1]\n",
      " [1 1 1]\n",
      " [1 1 1]]\n"
     ]
    }
   ],
   "source": [
    "e = np.ones(shape=(3, 3), dtype=np.int32)\n",
    "print(e)"
   ]
  },
  {
   "cell_type": "code",
   "execution_count": 32,
   "metadata": {},
   "outputs": [
    {
     "name": "stdout",
     "output_type": "stream",
     "text": [
      "[[1 0 0]\n",
      " [0 1 0]\n",
      " [0 0 1]]\n"
     ]
    }
   ],
   "source": [
    "f = np.identity(n=3, dtype=np.int32)\n",
    "print(f)"
   ]
  },
  {
   "cell_type": "code",
   "execution_count": 56,
   "metadata": {},
   "outputs": [
    {
     "name": "stdout",
     "output_type": "stream",
     "text": [
      "[[ 0.28523417  2.23288863  4.39450885]\n",
      " [ 0.19131807  3.47917344  1.47106294]\n",
      " [ 2.60710066  1.92032452  0.94064779]]\n",
      "(array([0, 0, 0, 1, 1, 1, 2, 2, 2]), array([0, 1, 2, 0, 1, 2, 0, 1, 2]))\n"
     ]
    }
   ],
   "source": [
    "g = np.random.rand(3, 3)*5\n",
    "print(g)\n",
    "print(np.where(g)) # Returns the x, y coordinates"
   ]
  },
  {
   "cell_type": "code",
   "execution_count": 33,
   "metadata": {},
   "outputs": [
    {
     "name": "stdout",
     "output_type": "stream",
     "text": [
      "The linear space of value is [  1.           3.11111111   5.22222222   7.33333333   9.44444444\n",
      "  11.55555556  13.66666667  15.77777778  17.88888889  20.        ]\n",
      "The log space of value is [ 1.25892541  1.29154967  1.32501936  1.35935639  1.39458325  1.43072299\n",
      "  1.46779927  1.50583635  1.54485915  1.58489319]\n"
     ]
    }
   ],
   "source": [
    "# Create 10 numbers between 1 and 20\n",
    "p = np.linspace(start = 1, stop = 20, num=10)\n",
    "print('The linear space of value is {0}'.format(p))\n",
    "\n",
    "p = np.logspace(start = 0.1, stop = 0.20, num=10)\n",
    "print('The log space of value is {0}'.format(p))"
   ]
  },
  {
   "cell_type": "markdown",
   "metadata": {},
   "source": [
    "### OPERATIONS"
   ]
  },
  {
   "cell_type": "code",
   "execution_count": 2,
   "metadata": {},
   "outputs": [
    {
     "name": "stdout",
     "output_type": "stream",
     "text": [
      "[4. 5. 6.]\n",
      "[10. 11. 12.]\n",
      "[2.5 2.2 2. ] float64\n"
     ]
    }
   ],
   "source": [
    "import numpy as np\n",
    "\n",
    "c = np.array((4, 5, 6), dtype=np.float32)\n",
    "d = np.linspace(start=10, stop=12, num=3)\n",
    "print(c)\n",
    "print(d)\n",
    "f = d/c # Subtract matrix\n",
    "print(f, f.dtype)"
   ]
  },
  {
   "cell_type": "code",
   "execution_count": 10,
   "metadata": {},
   "outputs": [
    {
     "name": "stdout",
     "output_type": "stream",
     "text": [
      "[40. 50. 60.] float32\n"
     ]
    }
   ],
   "source": [
    "f = 10*c \n",
    "print(f, f.dtype)"
   ]
  },
  {
   "cell_type": "code",
   "execution_count": 4,
   "metadata": {},
   "outputs": [
    {
     "name": "stdout",
     "output_type": "stream",
     "text": [
      "[False False  True]\n"
     ]
    }
   ],
   "source": [
    "h = f > 50 # Compare every element with the value of 0.5\n",
    "print(h)"
   ]
  },
  {
   "cell_type": "code",
   "execution_count": 6,
   "metadata": {},
   "outputs": [
    {
     "name": "stdout",
     "output_type": "stream",
     "text": [
      "[False False  True]\n",
      "[60.]\n",
      "[60.]\n"
     ]
    }
   ],
   "source": [
    "# Indexing with boolean arrays\n",
    "k = f > 50\n",
    "print(k)\n",
    "print(f[k]) # Returns values in p that are True in t\n",
    "print(f[f>50]) # This is same as the previous line except that we are not creating a new array t"
   ]
  },
  {
   "cell_type": "code",
   "execution_count": null,
   "metadata": {
    "collapsed": true
   },
   "outputs": [],
   "source": [
    "# min() will return the minimum value \n",
    "\n",
    "a = np.array([[5, 7, 9], [3, -6, 11], [2, -8, 13]])\n",
    "print(a)\n",
    "print(np.min(a))\n",
    "print(np.min(a, 0)) # along the columns\n",
    "print(np.min(a, 1)) # along the rows"
   ]
  },
  {
   "cell_type": "code",
   "execution_count": null,
   "metadata": {},
   "outputs": [],
   "source": [
    "# max() will return the maximum value\n",
    "\n",
    "a = np.array([[5, 7, 9], [3, 6, 11], [2, 8, 13]])\n",
    "print(a)\n",
    "print(np.max(a))\n",
    "print(np.max(a, 0)) # along the columns\n",
    "print(np.max(a, 1)) # along the rows"
   ]
  },
  {
   "cell_type": "code",
   "execution_count": null,
   "metadata": {},
   "outputs": [],
   "source": [
    "# mean() turns the mean or the average\n",
    "\n",
    "a = np.array([[20, 10, 50], [30, 50, 70], [60, 40, 10]])\n",
    "print(a)\n",
    "print(np.mean(a))\n",
    "print(np.mean(a, axis=0)) # along the columns\n",
    "print(np.mean(a, axis=1)) # along the rows"
   ]
  },
  {
   "cell_type": "code",
   "execution_count": null,
   "metadata": {},
   "outputs": [],
   "source": [
    "# median() returns the median \n",
    "\n",
    "a = np.array([[20, 10, 50], [30, 50, 70], [60, 40, 10]])\n",
    "print(a)\n",
    "print(np.median(a))\n",
    "print(np.median(a, axis=0)) # along the columns\n",
    "print(np.median(a, axis=1)) # along the rows\n"
   ]
  },
  {
   "cell_type": "code",
   "execution_count": null,
   "metadata": {},
   "outputs": [],
   "source": [
    "# standard deviation is the square root of average of squared deviations \n",
    "# from the mean\n",
    "\n",
    "a = np.array([1, 2, 3, 4, 5])\n",
    "print(np.mean(a))\n",
    "print(np.std(a))\n",
    "# this value is nothing but the square root of 2."
   ]
  },
  {
   "cell_type": "code",
   "execution_count": null,
   "metadata": {},
   "outputs": [],
   "source": [
    "\"\"\"\n",
    "In-class activity - create an ndarray with values [2, -4, 6], [7, 4, 8] and [5, 10, 4]. \n",
    "Determine the following:\n",
    "1) The maximum value\n",
    "2) The minimum value\n",
    "3) The mean and median values \n",
    "4) The standard deviation. \n",
    "\"\"\""
   ]
  }
 ],
 "metadata": {
  "kernel_info": {
   "name": "python3"
  },
  "kernelspec": {
   "display_name": "Python 3",
   "language": "python",
   "name": "python3"
  },
  "language_info": {
   "codemirror_mode": {
    "name": "ipython",
    "version": 3
   },
   "file_extension": ".py",
   "mimetype": "text/x-python",
   "name": "python",
   "nbconvert_exporter": "python",
   "pygments_lexer": "ipython3",
   "version": "3.8.4"
  },
  "nteract": {
   "version": "0.21.0"
  }
 },
 "nbformat": 4,
 "nbformat_minor": 1
}
