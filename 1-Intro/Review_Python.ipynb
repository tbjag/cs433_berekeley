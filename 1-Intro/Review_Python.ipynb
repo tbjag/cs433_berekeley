{
 "cells": [
  {
   "cell_type": "markdown",
   "metadata": {},
   "source": [
    "In this notebook, we will look at if-else statement, loops, range and lists."
   ]
  },
  {
   "cell_type": "code",
   "execution_count": 1,
   "metadata": {},
   "outputs": [
    {
     "name": "stdout",
     "output_type": "stream",
     "text": [
      "This is a print statement\n",
      "This is a single quotes example\n"
     ]
    }
   ],
   "source": [
    "# single line comments start with #\n",
    "\n",
    "\"\"\"\n",
    "Multi-line comments are placed between a pair of triple single quotes \n",
    "or a triple double quotes\n",
    "\"\"\"\n",
    "\n",
    "\"\"\"\n",
    "In Python, strings can be represented in a pair of single quotes\n",
    "or in a pair of double quotes.\n",
    "\"\"\"\n",
    "\n",
    "print(\"This is a print statement\")\n",
    "\n",
    "print('This is a single quotes example')"
   ]
  },
  {
   "cell_type": "code",
   "execution_count": 2,
   "metadata": {},
   "outputs": [
    {
     "name": "stdout",
     "output_type": "stream",
     "text": [
      "enter a float: 1.2\n"
     ]
    }
   ],
   "source": [
    "# The input() function is used to get values from the user.\n",
    "\n",
    "user = input(\"enter a float: \")"
   ]
  },
  {
   "cell_type": "code",
   "execution_count": 3,
   "metadata": {},
   "outputs": [
    {
     "name": "stdout",
     "output_type": "stream",
     "text": [
      "<class 'str'>\n"
     ]
    }
   ],
   "source": [
    "print(type(user))"
   ]
  },
  {
   "cell_type": "code",
   "execution_count": 4,
   "metadata": {},
   "outputs": [
    {
     "name": "stdout",
     "output_type": "stream",
     "text": [
      "1.2 <class 'float'>\n"
     ]
    }
   ],
   "source": [
    "# conversion from string to float can be done by using float() function\n",
    "user = float(user)\n",
    "print(user, type(user))"
   ]
  },
  {
   "cell_type": "markdown",
   "metadata": {},
   "source": [
    "More functions:\n",
    "\n",
    "int()\n",
    "\n",
    "str()"
   ]
  },
  {
   "cell_type": "markdown",
   "metadata": {},
   "source": [
    "The if-else statement is used whenever a condition results in \n",
    "branching. "
   ]
  },
  {
   "cell_type": "code",
   "execution_count": 5,
   "metadata": {},
   "outputs": [
    {
     "name": "stdout",
     "output_type": "stream",
     "text": [
      "Please enter an integer: 2\n",
      "Number is greater than 1.\n"
     ]
    }
   ],
   "source": [
    "'''\n",
    "Syntax of if-else\n",
    "if condition 1:\n",
    "   execute statement(s) that are under this block\n",
    "elif condition 2:\n",
    "    execute statement(s) that are under this block\n",
    "else:\n",
    "    execute statement(s) that are under this block\n",
    "'''\n",
    "\n",
    "x = int(input(\"Please enter an integer: \"))\n",
    "\n",
    "if x < 0:\n",
    "    print('The number is negative.')\n",
    "elif x == 0:\n",
    "    print(\"The number is zero.\")\n",
    "else:\n",
    "    print('Number is greater than 1.')"
   ]
  },
  {
   "cell_type": "markdown",
   "metadata": {},
   "source": [
    "range(n) will create an iterator which holds values from 0, 1, 2, ..., n-1."
   ]
  },
  {
   "cell_type": "code",
   "execution_count": 6,
   "metadata": {},
   "outputs": [
    {
     "name": "stdout",
     "output_type": "stream",
     "text": [
      "range(0, 4)\n",
      "[0, 1, 2, 3]\n"
     ]
    }
   ],
   "source": [
    "print(range(4))\n",
    "\n",
    "print(list(range(4)))"
   ]
  },
  {
   "cell_type": "markdown",
   "metadata": {},
   "source": [
    "range(a, b) will return an iterator that holds values from a to b-1."
   ]
  },
  {
   "cell_type": "code",
   "execution_count": 7,
   "metadata": {},
   "outputs": [
    {
     "name": "stdout",
     "output_type": "stream",
     "text": [
      "range(3, 6)\n",
      "[3, 4, 5]\n"
     ]
    }
   ],
   "source": [
    "print(range(3, 6))\n",
    "\n",
    "print(list(range(3, 6)))"
   ]
  },
  {
   "cell_type": "markdown",
   "metadata": {},
   "source": [
    "range(a, b, incr) will return an iterator from a to b-1 \n",
    "in steps of incr."
   ]
  },
  {
   "cell_type": "code",
   "execution_count": 8,
   "metadata": {},
   "outputs": [
    {
     "name": "stdout",
     "output_type": "stream",
     "text": [
      "range(3, 10, 2)\n",
      "[3, 5, 7, 9]\n"
     ]
    }
   ],
   "source": [
    "print(range(3, 10, 2))\n",
    "\n",
    "print(list(range(3, 10, 2)))"
   ]
  },
  {
   "cell_type": "markdown",
   "metadata": {},
   "source": [
    "A list is a collection of items separated by commas. \n",
    "A list is used when we need a sequence of items that can be modified \n",
    "at a later time. Since lists can be modified they are mutable. \n",
    "There are several methods that can be applied to lists.\n",
    "\n",
    "Syntax for list is n = [item1, item2, item3]. The items can be any Python object. The index of the list starts from zero. "
   ]
  },
  {
   "cell_type": "code",
   "execution_count": 9,
   "metadata": {},
   "outputs": [
    {
     "name": "stdout",
     "output_type": "stream",
     "text": [
      "[15, 'up', 17.0] <class 'list'>\n"
     ]
    }
   ],
   "source": [
    "uvals = [15, \"up\", 17.0]\n",
    "print(uvals, type(uvals))"
   ]
  },
  {
   "cell_type": "code",
   "execution_count": 10,
   "metadata": {},
   "outputs": [
    {
     "name": "stdout",
     "output_type": "stream",
     "text": [
      "[15, 20, 34]\n"
     ]
    }
   ],
   "source": [
    "hvals = [ 15, 20, 34]\n",
    "print(hvals)"
   ]
  },
  {
   "cell_type": "code",
   "execution_count": 11,
   "metadata": {},
   "outputs": [
    {
     "name": "stdout",
     "output_type": "stream",
     "text": [
      "3\n"
     ]
    }
   ],
   "source": [
    "print(len(hvals))"
   ]
  },
  {
   "cell_type": "code",
   "execution_count": 12,
   "metadata": {},
   "outputs": [
    {
     "name": "stdout",
     "output_type": "stream",
     "text": [
      "15\n",
      "20\n",
      "34\n"
     ]
    }
   ],
   "source": [
    "# looping through all the values in hvals\n",
    "\n",
    "for i in hvals:\n",
    "    print(i)"
   ]
  },
  {
   "cell_type": "code",
   "execution_count": 13,
   "metadata": {},
   "outputs": [
    {
     "name": "stdout",
     "output_type": "stream",
     "text": [
      "15\n"
     ]
    }
   ],
   "source": [
    "# here we are looping through hvals and checking a condition\n",
    "\n",
    "for i in hvals:\n",
    "    if i%3 == 0:\n",
    "        print(i)"
   ]
  },
  {
   "cell_type": "code",
   "execution_count": 14,
   "metadata": {},
   "outputs": [
    {
     "name": "stdout",
     "output_type": "stream",
     "text": [
      "10 Not a multiple of 3\n",
      "11 Not a multiple of 3\n",
      "12 Multiple of 3\n",
      "13 Not a multiple of 3\n",
      "14 Not a multiple of 3\n",
      "15 Multiple of 3\n"
     ]
    }
   ],
   "source": [
    "for i in range(10, 16):\n",
    "    if i%3 == 0:\n",
    "        print(i, \"Multiple of 3\")\n",
    "    else:\n",
    "        print(i, \"Not a multiple of 3\")"
   ]
  },
  {
   "cell_type": "code",
   "execution_count": 15,
   "metadata": {},
   "outputs": [
    {
     "data": {
      "text/plain": [
       "'\\nwhile-loop\\n\\nsyntax\\n\\nwhile (condition):\\n    statements\\n    \\nNote: The while loop will get executed only when the condition is True.\\n'"
      ]
     },
     "execution_count": 15,
     "metadata": {},
     "output_type": "execute_result"
    }
   ],
   "source": [
    "'''\n",
    "while-loop\n",
    "\n",
    "syntax\n",
    "\n",
    "while (condition):\n",
    "    statements\n",
    "    \n",
    "Note: The while loop will get executed only when the condition is True.\n",
    "'''"
   ]
  },
  {
   "cell_type": "code",
   "execution_count": 16,
   "metadata": {},
   "outputs": [
    {
     "name": "stdout",
     "output_type": "stream",
     "text": [
      "4\n",
      "3\n",
      "2\n"
     ]
    }
   ],
   "source": [
    "i = 4\n",
    "while(i>1):\n",
    "    print(i)\n",
    "    i -= 1"
   ]
  },
  {
   "cell_type": "code",
   "execution_count": 17,
   "metadata": {},
   "outputs": [
    {
     "name": "stdout",
     "output_type": "stream",
     "text": [
      "3\n"
     ]
    }
   ],
   "source": [
    "i = 0\n",
    "while True:\n",
    "    if i == 3:\n",
    "        print(i)\n",
    "        break\n",
    "    i += 1"
   ]
  },
  {
   "cell_type": "code",
   "execution_count": 18,
   "metadata": {},
   "outputs": [],
   "source": [
    "i = 0\n",
    "while False:\n",
    "    if i == 3:\n",
    "        print(i)\n",
    "        break\n",
    "    i += 1"
   ]
  },
  {
   "cell_type": "code",
   "execution_count": 19,
   "metadata": {},
   "outputs": [
    {
     "name": "stdout",
     "output_type": "stream",
     "text": [
      "['CA', 1, 6, 10] 4\n"
     ]
    }
   ],
   "source": [
    "list1 = [\"CA\", 1, 6, 10]\n",
    "print(list1, len(list1))"
   ]
  },
  {
   "cell_type": "code",
   "execution_count": 20,
   "metadata": {},
   "outputs": [
    {
     "name": "stdout",
     "output_type": "stream",
     "text": [
      "['LA', 'CA', 1, 6, 10]\n"
     ]
    }
   ],
   "source": [
    "list1.insert(0, \"LA\")\n",
    "print(list1)"
   ]
  },
  {
   "cell_type": "code",
   "execution_count": 21,
   "metadata": {},
   "outputs": [
    {
     "name": "stdout",
     "output_type": "stream",
     "text": [
      "['LA', 'CA', 1, 6, 10, 'PA']\n"
     ]
    }
   ],
   "source": [
    "list1.append('PA')\n",
    "print(list1)"
   ]
  },
  {
   "cell_type": "code",
   "execution_count": 22,
   "metadata": {},
   "outputs": [],
   "source": [
    "list1.extend([3, 5])"
   ]
  },
  {
   "cell_type": "code",
   "execution_count": 23,
   "metadata": {},
   "outputs": [
    {
     "name": "stdout",
     "output_type": "stream",
     "text": [
      "['LA', 'CA', 1, 6, 10, 'PA', 3, 5]\n"
     ]
    }
   ],
   "source": [
    "print(list1)"
   ]
  },
  {
   "cell_type": "code",
   "execution_count": 24,
   "metadata": {},
   "outputs": [
    {
     "name": "stdout",
     "output_type": "stream",
     "text": [
      "['LA', 'CA', 1, 6, 10, 'PA', 3]\n"
     ]
    }
   ],
   "source": [
    "list1.pop()\n",
    "print(list1)"
   ]
  },
  {
   "cell_type": "code",
   "execution_count": 25,
   "metadata": {},
   "outputs": [
    {
     "name": "stdout",
     "output_type": "stream",
     "text": [
      "['CA', 1, 6, 10, 'PA', 3]\n"
     ]
    }
   ],
   "source": [
    "list1.pop(0)\n",
    "print(list1)"
   ]
  },
  {
   "cell_type": "code",
   "execution_count": 26,
   "metadata": {},
   "outputs": [
    {
     "name": "stdout",
     "output_type": "stream",
     "text": [
      "3\n"
     ]
    }
   ],
   "source": [
    "print(list1[-1])"
   ]
  },
  {
   "cell_type": "code",
   "execution_count": 27,
   "metadata": {},
   "outputs": [
    {
     "name": "stdout",
     "output_type": "stream",
     "text": [
      "[6, 10, 'PA']\n"
     ]
    }
   ],
   "source": [
    "print(list1[2:5])"
   ]
  },
  {
   "cell_type": "code",
   "execution_count": 28,
   "metadata": {},
   "outputs": [
    {
     "name": "stdout",
     "output_type": "stream",
     "text": [
      "['CA', 1, 6, 10, 'PA', 3]\n"
     ]
    }
   ],
   "source": [
    "import copy\n",
    "list2 = copy.deepcopy(list1)\n",
    "print(list2)"
   ]
  },
  {
   "cell_type": "code",
   "execution_count": 29,
   "metadata": {},
   "outputs": [
    {
     "name": "stdout",
     "output_type": "stream",
     "text": [
      "['CA', 1, 6, 10, 'PA', 3]\n",
      "['CA', 1, 6, 10, 'PA', 3, 'TX']\n"
     ]
    }
   ],
   "source": [
    "list2.append(\"TX\")\n",
    "print(list1)\n",
    "print(list2)"
   ]
  },
  {
   "cell_type": "code",
   "execution_count": 30,
   "metadata": {},
   "outputs": [
    {
     "name": "stdout",
     "output_type": "stream",
     "text": [
      "[225, 400, 1156]\n"
     ]
    }
   ],
   "source": [
    "hnew = [i*i for i in hvals]\n",
    "print(hnew)"
   ]
  },
  {
   "cell_type": "code",
   "execution_count": 31,
   "metadata": {},
   "outputs": [
    {
     "name": "stdout",
     "output_type": "stream",
     "text": [
      "[(2, 3), (2, 15), (7, 3), (7, 15)]\n"
     ]
    }
   ],
   "source": [
    "h1 = [2, 7]\n",
    "h2 = [3, 10, 15]\n",
    "new = [(x, y) for x in h1 for y in h2 if y%3==0]\n",
    "print(new)"
   ]
  },
  {
   "cell_type": "code",
   "execution_count": null,
   "metadata": {},
   "outputs": [],
   "source": [
    "# Dictionary\n",
    "\n",
    "d1 = {'a': 7, 'c':10, 'e':14}\n",
    "print(d1)"
   ]
  },
  {
   "cell_type": "code",
   "execution_count": null,
   "metadata": {},
   "outputs": [],
   "source": [
    "print(d1['f'])"
   ]
  },
  {
   "cell_type": "code",
   "execution_count": null,
   "metadata": {},
   "outputs": [],
   "source": [
    "d1['f'] = 20"
   ]
  },
  {
   "cell_type": "code",
   "execution_count": null,
   "metadata": {},
   "outputs": [],
   "source": [
    "print(d1)"
   ]
  },
  {
   "cell_type": "code",
   "execution_count": null,
   "metadata": {},
   "outputs": [],
   "source": [
    "print(len(d1))"
   ]
  },
  {
   "cell_type": "code",
   "execution_count": null,
   "metadata": {},
   "outputs": [],
   "source": [
    "for k in d1:\n",
    "    print(k)"
   ]
  },
  {
   "cell_type": "code",
   "execution_count": null,
   "metadata": {},
   "outputs": [],
   "source": [
    "for k, v in d1.items():\n",
    "    print(k, v)"
   ]
  },
  {
   "cell_type": "code",
   "execution_count": null,
   "metadata": {},
   "outputs": [],
   "source": [
    "d1 = {'a': 7, 'c':10, 'e':14, 'a': 10}\n",
    "print(d1)"
   ]
  },
  {
   "cell_type": "code",
   "execution_count": null,
   "metadata": {},
   "outputs": [],
   "source": [
    "# dictionary comprehension\n",
    "cd = {x: x*x*x for x in range(4)}\n",
    "print(cd)"
   ]
  },
  {
   "cell_type": "code",
   "execution_count": null,
   "metadata": {},
   "outputs": [],
   "source": []
  }
 ],
 "metadata": {
  "kernelspec": {
   "display_name": "Python 3",
   "language": "python",
   "name": "python3"
  },
  "language_info": {
   "codemirror_mode": {
    "name": "ipython",
    "version": 3
   },
   "file_extension": ".py",
   "mimetype": "text/x-python",
   "name": "python",
   "nbconvert_exporter": "python",
   "pygments_lexer": "ipython3",
   "version": "3.8.4rc1"
  }
 },
 "nbformat": 4,
 "nbformat_minor": 2
}
