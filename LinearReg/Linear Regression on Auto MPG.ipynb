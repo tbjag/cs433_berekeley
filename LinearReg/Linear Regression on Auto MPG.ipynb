{
 "cells": [
  {
   "cell_type": "code",
   "execution_count": 1,
   "metadata": {},
   "outputs": [],
   "source": [
    "import pandas as pd\n",
    "import numpy as np\n",
    "from sklearn import linear_model\n",
    "from sklearn.model_selection import train_test_split"
   ]
  },
  {
   "cell_type": "code",
   "execution_count": 3,
   "metadata": {},
   "outputs": [
    {
     "name": "stdout",
     "output_type": "stream",
     "text": [
      "    mpg  cylinder  displacement horse power  weight  acceleration  model year  \\\n",
      "0  18.0         8         307.0         130    3504          12.0          70   \n",
      "1  15.0         8         350.0         165    3693          11.5          70   \n",
      "2  18.0         8         318.0         150    3436          11.0          70   \n",
      "3  16.0         8         304.0         150    3433          12.0          70   \n",
      "4  17.0         8         302.0         140    3449          10.5          70   \n",
      "\n",
      "   origin                   car name  \n",
      "0       1  chevrolet chevelle malibu  \n",
      "1       1          buick skylark 320  \n",
      "2       1         plymouth satellite  \n",
      "3       1              amc rebel sst  \n",
      "4       1                ford torino  \n",
      "193.42587939698493 455.0 68.0 387.0\n",
      "-----Displacement Stats-----\n",
      "count    398.000000\n",
      "mean       1.934259\n",
      "std        1.042698\n",
      "min        0.680000\n",
      "25%        1.042500\n",
      "50%        1.485000\n",
      "75%        2.620000\n",
      "max        4.550000\n",
      "Name: displacement, dtype: float64\n",
      "-----Mileage Stats-----\n",
      "count    398.000000\n",
      "mean       0.235146\n",
      "std        0.078160\n",
      "min        0.090000\n",
      "25%        0.175000\n",
      "50%        0.230000\n",
      "75%        0.290000\n",
      "max        0.466000\n",
      "Name: mpg, dtype: float64\n"
     ]
    }
   ],
   "source": [
    "auto = pd.read_csv('auto_mpg.csv')\n",
    "print(auto.head())\n",
    "auto_disp = auto['displacement'].astype(float)\n",
    "auto_mpg = auto['mpg'].astype(float)\n",
    "mean_disp = np.mean(auto_disp)\n",
    "min_disp = np.min(auto_disp)\n",
    "max_disp = np.max(auto_disp)\n",
    "print(mean_disp, max_disp, min_disp, max_disp-min_disp)\n",
    "auto_disp = auto_disp.apply(lambda x: x/100)\n",
    "print(\"-----Displacement Stats-----\" )\n",
    "print(auto_disp.describe())\n",
    "auto_mpg = auto_mpg.apply(lambda x: x/100)\n",
    "print(\"-----Mileage Stats-----\" )\n",
    "print(auto_mpg.describe())"
   ]
  },
  {
   "cell_type": "code",
   "execution_count": 4,
   "metadata": {},
   "outputs": [
    {
     "name": "stdout",
     "output_type": "stream",
     "text": [
      "<class 'pandas.core.series.Series'>\n"
     ]
    }
   ],
   "source": [
    "print(type(auto_disp))"
   ]
  },
  {
   "cell_type": "markdown",
   "metadata": {},
   "source": [
    "What is correlation? \n",
    "\n",
    "Correlation describes the relationship between two variables. \n",
    "\n",
    "Correlation coefficient is a value that describes the strenght of the \n",
    "relationship betweent two variables. \n",
    "\n",
    "Correlation graph\n",
    "\n",
    "<img src=\"correlation_graph.png\" width=400, height=300>\n",
    "\n",
    "Correlation coefficient formula\n",
    "\n",
    "<img src=\"correlation_formula.png\" width=400, height=300>\n",
    "\n",
    "Values of $r$ range from -1 to 1, -1 represents inverse or negative correlation, 1 represents direct or positive correlation. \n",
    "\n",
    "Reference - https://www.wallstreetmojo.com/correlation-coefficient-formula/\n",
    "\n",
    "Which features to select?\n",
    "\n",
    "Choose features that are not correlated. "
   ]
  },
  {
   "cell_type": "code",
   "execution_count": null,
   "metadata": {},
   "outputs": [],
   "source": [
    "# library\n",
    "import seaborn as sns\n",
    "import matplotlib.pyplot as plt\n",
    " \n",
    "# Basic correlogram\n",
    "sns.pairplot(auto)\n",
    "plt.show()\n",
    "\n",
    "corr = auto.corr()\n",
    "corr.style.background_gradient(cmap='coolwarm')"
   ]
  },
  {
   "cell_type": "code",
   "execution_count": 5,
   "metadata": {},
   "outputs": [
    {
     "name": "stdout",
     "output_type": "stream",
     "text": [
      "LinearRegression()\n"
     ]
    }
   ],
   "source": [
    "reg = linear_model.LinearRegression()\n",
    "print(reg)"
   ]
  },
  {
   "cell_type": "code",
   "execution_count": 6,
   "metadata": {},
   "outputs": [],
   "source": [
    "x_train, x_test, y_train, y_test = train_test_split(auto_disp, \\\n",
    "                                                    auto_mpg, \\\n",
    "                                                    test_size=0.2, \\\n",
    "                                                    random_state=4)"
   ]
  },
  {
   "cell_type": "code",
   "execution_count": 7,
   "metadata": {},
   "outputs": [
    {
     "name": "stdout",
     "output_type": "stream",
     "text": [
      "(318,)\n",
      "(318, 1)\n",
      "(318, 1)\n"
     ]
    }
   ],
   "source": [
    "print(y_train.shape) \n",
    "y_train = y_train[:,None]\n",
    "print(y_train.shape)\n",
    "x_train = x_train[:,None]\n",
    "print(x_train.shape)\n",
    "x_test = x_test[:,None]\n",
    "y_test = y_test[:,None]"
   ]
  },
  {
   "cell_type": "code",
   "execution_count": 8,
   "metadata": {},
   "outputs": [
    {
     "data": {
      "text/plain": [
       "LinearRegression()"
      ]
     },
     "execution_count": 8,
     "metadata": {},
     "output_type": "execute_result"
    }
   ],
   "source": [
    "reg.fit(x_train, y_train)"
   ]
  },
  {
   "cell_type": "code",
   "execution_count": 9,
   "metadata": {},
   "outputs": [
    {
     "name": "stdout",
     "output_type": "stream",
     "text": [
      "[[-0.05885609]]\n",
      "[0.34875617]\n"
     ]
    }
   ],
   "source": [
    "print(reg.coef_)\n",
    "print(reg.intercept_)"
   ]
  },
  {
   "cell_type": "markdown",
   "metadata": {},
   "source": [
    "#### Metrics for Linear Regression\n",
    "\n",
    "Mean Squared Error \n",
    "\n",
    "For linear regresion with one variable, $ y = mx +b $\n",
    "\n",
    "$ MSE = \\frac{1}{N} \\sum_{i=1}^{n} (y_i - (mx_i + b))^2 $ \n",
    "\n",
    "$y_i$ is the actual value and $mx_i + b$ is the predicted value.\n",
    "\n",
    "$N$ is the number of observations.\n",
    "\n",
    "The loss function based on the MSE is \n",
    "\n",
    "$ L(m, b) = \\frac{1}{N} \\sum_{i=1}^{n} (y_i - (mx_i + b))^2 $ \n",
    "\n",
    "our goal is to minimize $L$ with respect to $m$ and $b$\n",
    "\n",
    "The gradient of $L$\n",
    "\n",
    "$L'(m, b) = \\begin{bmatrix} \\frac{dL}{dm} \\\\ \\frac{dL}{dm} \\end{bmatrix} = \\begin{bmatrix} \\frac{1}{N} \\sum -x_i.2(y_i - (mx_i + b))  \\\\ \\frac{1}{N} \\sum -2(y_i - (mx_i + b))  \\end{bmatrix}$ \n",
    "\n",
    "Update equation of m and b with learning rate $\\epsilon$ is\n",
    "\n",
    "$ m = m - \\epsilon \\frac{dL}{dm} $\n",
    "\n",
    "$ b = b - \\epsilon \\frac{dL}{db} $\n",
    "\n",
    "<img src=\"linear_loss.png\" width=400, height=300>"
   ]
  },
  {
   "cell_type": "markdown",
   "metadata": {},
   "source": [
    "#### Different Gradient Descents\n",
    "\n",
    "Gradient Descsent - every single data point is considered for update. \n",
    "\n",
    "Batch Gradient Descent - A whole batch of data is considered and then an update is done. \n",
    "It is slow when the training data is large. \n",
    "\n",
    "Stochastic Gradient Descent - a single point at random is chosen and loss is computed for update. \n",
    "\n",
    "Mini-batch Stochastic Gradient Descent - a mini-batch of randomly selected data points is considered and the average loss of the mini-batch is computed for the update. "
   ]
  },
  {
   "cell_type": "code",
   "execution_count": null,
   "metadata": {},
   "outputs": [],
   "source": [
    "yhat = reg.predict(x_test)"
   ]
  },
  {
   "cell_type": "code",
   "execution_count": null,
   "metadata": {},
   "outputs": [],
   "source": [
    "print(yhat[0])"
   ]
  },
  {
   "cell_type": "code",
   "execution_count": null,
   "metadata": {},
   "outputs": [],
   "source": [
    "# mean squared error\n",
    "np.mean((yhat-y_test)**2)"
   ]
  },
  {
   "cell_type": "code",
   "execution_count": null,
   "metadata": {},
   "outputs": [],
   "source": [
    "print(y_test[0])\n",
    "print((np.mean(yhat-y_test)**2)/np.mean(y_test))"
   ]
  },
  {
   "cell_type": "code",
   "execution_count": null,
   "metadata": {},
   "outputs": [],
   "source": [
    "\"\"\"\n",
    "In-class activity: In the auto-mpg example, find the relationship between \n",
    "weight and mpg. Find the mean squared error. \n",
    "\"\"\""
   ]
  },
  {
   "cell_type": "markdown",
   "metadata": {},
   "source": [
    "Multilinear Regression - In a multilinear regression, instead of one independent variable, we will consider more than one independent variable to find a linear relationship between independent variables and dependent variable. In the below example, we will consider two features, displacement and weight as inputs for our model and our target will still be mpg. "
   ]
  },
  {
   "cell_type": "code",
   "execution_count": null,
   "metadata": {},
   "outputs": [],
   "source": [
    "auto_weight = auto['weight'].astype(float)"
   ]
  },
  {
   "cell_type": "code",
   "execution_count": null,
   "metadata": {},
   "outputs": [],
   "source": [
    "x = np.array([auto_disp, auto_weight]).T\n",
    "print(x.shape)\n",
    "y = np.array([auto_mpg]).T\n",
    "print(y.shape)\n",
    "x_train, x_test, y_train, y_test = train_test_split(x, \\\n",
    "                                                    y, \\\n",
    "                                                    test_size=0.2, \\\n",
    "                                                    random_state=4)"
   ]
  },
  {
   "cell_type": "code",
   "execution_count": null,
   "metadata": {},
   "outputs": [],
   "source": [
    "reg.fit(x_train, y_train)"
   ]
  },
  {
   "cell_type": "code",
   "execution_count": null,
   "metadata": {},
   "outputs": [],
   "source": [
    "print(reg.coef_)\n",
    "print(reg.intercept_)\n",
    "print(reg.score(x_train, y_train))\n",
    "print(reg.score(x_test, y_test))"
   ]
  },
  {
   "cell_type": "code",
   "execution_count": null,
   "metadata": {},
   "outputs": [],
   "source": [
    "np.mean((yhat-y_test)**2)"
   ]
  },
  {
   "cell_type": "code",
   "execution_count": null,
   "metadata": {},
   "outputs": [],
   "source": [
    "\"\"\"\n",
    "In-class activity: In the auto-mpg example, find the relationship between \n",
    "horse power and weight with car mpg. Find the mean squared error. \n",
    "\"\"\""
   ]
  },
  {
   "cell_type": "code",
   "execution_count": null,
   "metadata": {},
   "outputs": [],
   "source": []
  },
  {
   "cell_type": "code",
   "execution_count": null,
   "metadata": {},
   "outputs": [],
   "source": []
  }
 ],
 "metadata": {
  "kernelspec": {
   "display_name": "Python 3",
   "language": "python",
   "name": "python3"
  },
  "language_info": {
   "codemirror_mode": {
    "name": "ipython",
    "version": 3
   },
   "file_extension": ".py",
   "mimetype": "text/x-python",
   "name": "python",
   "nbconvert_exporter": "python",
   "pygments_lexer": "ipython3",
   "version": "3.8.3"
  },
  "widgets": {
   "state": {},
   "version": "1.1.2"
  }
 },
 "nbformat": 4,
 "nbformat_minor": 2
}
