{
 "cells": [
  {
   "cell_type": "markdown",
   "metadata": {},
   "source": [
    "#### Bagging\n",
    "\n",
    "Bagging is short for Bootstrap Aggregation  \n",
    " \n",
    "    1) Is a process where several models with replacement are built.\n",
    "\n",
    "    2) Average of these models or majority vote are taken to reduce overfitting.\n",
    "\n",
    "\n",
    "Random Forest is a Bagging technique where we construct several forests with replacement. "
   ]
  },
  {
   "cell_type": "markdown",
   "metadata": {},
   "source": [
    "#### Boosting\n",
    "\n",
    "Is a process in which a set of weak learners create a strong learner.\n",
    "\n",
    "Let's look at AdaBoost. \n",
    "\n",
    "We will build a forest of stumps, a stump is a node with leaves. We start with a feature that would give the most information gain or less entropy. \n",
    "\n",
    "<img src=\"sample1.png\" width = 500, height=400>\n",
    "\n",
    "Let's say it is Chest Pain, we built a stump. \n",
    "\n",
    "\n",
    "\n",
    "We find mislcassifed sample(s) and then we have to update their weights.\n",
    "\n",
    "$ error = \\text{sum of the weights of the misclassified samples}$\n",
    "\n",
    "$ \\text{amount of say} = \\frac{1}{2} \\log(\\frac{1 - error}{error}) $ \n",
    "\n",
    "We have to increase the weight(s) of misclassified sample(s) and decrease the weights of the correctly classified sample(s).\n",
    "\n",
    "For increase = old weight * $ e ^{\\text{amount of say}} $\n",
    "\n",
    "For decrease = old * weight * $ e ^{ - \\text{amount of say}} $\n",
    "\n",
    "Then normalize the new weights\n",
    "\n",
    "Randomly pick a sample out of the old sample. The chances of the misclassified sample(s) being picked is more. \n",
    "\n",
    "Then we use this distribution for creating a new stump. "
   ]
  },
  {
   "cell_type": "code",
   "execution_count": null,
   "metadata": {},
   "outputs": [],
   "source": []
  }
 ],
 "metadata": {
  "kernelspec": {
   "display_name": "Python 3",
   "language": "python",
   "name": "python3"
  },
  "language_info": {
   "codemirror_mode": {
    "name": "ipython",
    "version": 3
   },
   "file_extension": ".py",
   "mimetype": "text/x-python",
   "name": "python",
   "nbconvert_exporter": "python",
   "pygments_lexer": "ipython3",
   "version": "3.7.4"
  },
  "widgets": {
   "state": {},
   "version": "1.1.2"
  }
 },
 "nbformat": 4,
 "nbformat_minor": 2
}
