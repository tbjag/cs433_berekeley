{
 "cells": [
  {
   "cell_type": "code",
   "execution_count": null,
   "metadata": {},
   "outputs": [],
   "source": [
    "import pandas as pd\n",
    "import numpy as np\n",
    "import matplotlib.pyplot as plt\n",
    "import seaborn as sns\n",
    "from datetime import datetime"
   ]
  },
  {
   "cell_type": "code",
   "execution_count": null,
   "metadata": {},
   "outputs": [],
   "source": [
    "df=pd.read_csv('heart.csv')"
   ]
  },
  {
   "cell_type": "code",
   "execution_count": null,
   "metadata": {},
   "outputs": [],
   "source": [
    "df.head()"
   ]
  },
  {
   "cell_type": "markdown",
   "metadata": {},
   "source": [
    "#### Columns Details\n",
    "\n",
    "age: person's age\n",
    "\n",
    "gender (1 = male, 0 = female) \n",
    "\n",
    "cp: The chest pain experienced (Value 1: typical angina, Value 2: atypical angina, Value 3: non-anginal pain, Value 4: asymptomatic) \n",
    "\n",
    "trestbps: The person's resting blood pressure (mm Hg on admission to the hospital) \n",
    "\n",
    "chol: The person's cholesterol measurement in mg/dl \n",
    "\n",
    "fbs: The person's fasting blood sugar (> 120 mg/dl, 1 = true; 0 = false) \n",
    "\n",
    "restecg: Resting electrocardiographic measurement (0 = normal, 1 = having ST-T wave abnormality, 2 = showing probable or definite left ventricular hypertrophy by Estes' criteria) \n",
    "\n",
    "thalach: The person's maximum heart rate achieved exang: Exercise induced angina (1 = yes; 0 = no) \n",
    "\n",
    "oldpeak: ST depression induced by exercise relative to rest ('ST' relates to positions on the ECG plot. See more here) \n",
    "\n",
    "slope: the slope of the peak exercise ST segment (Value 1: upsloping, Value 2: flat, Value 3: downsloping) \n",
    "\n",
    "ca: The number of major vessels (0-3) \n",
    "\n",
    "thal: A blood disorder called thalassemia (3 = normal; 6 = fixed defect; 7 = reversable defect) \n",
    "\n",
    "target: Heart disease (0 = no, 1 = yes)"
   ]
  },
  {
   "cell_type": "code",
   "execution_count": null,
   "metadata": {},
   "outputs": [],
   "source": [
    "df.columns"
   ]
  },
  {
   "cell_type": "code",
   "execution_count": null,
   "metadata": {},
   "outputs": [],
   "source": [
    "df.info()"
   ]
  },
  {
   "cell_type": "code",
   "execution_count": null,
   "metadata": {},
   "outputs": [],
   "source": [
    "df.shape"
   ]
  },
  {
   "cell_type": "code",
   "execution_count": null,
   "metadata": {},
   "outputs": [],
   "source": [
    "df.isnull().sum()"
   ]
  },
  {
   "cell_type": "code",
   "execution_count": null,
   "metadata": {},
   "outputs": [],
   "source": [
    "df.target.value_counts()"
   ]
  },
  {
   "cell_type": "code",
   "execution_count": null,
   "metadata": {},
   "outputs": [],
   "source": [
    "\"\"\"\n",
    "Plotting the target values. The target value of \"0\" refers \n",
    "to no disease and a value of \"1\" refers to disease.\n",
    "\"\"\"\n",
    "\n",
    "sns.countplot(x=\"target\", data=df)"
   ]
  },
  {
   "cell_type": "code",
   "execution_count": null,
   "metadata": {},
   "outputs": [],
   "source": [
    "\"\"\"\n",
    "Plotting number of males vs number of females. Value \"1\"\n",
    "represents a male and \"0\" represents female.\n",
    "\"\"\"\n",
    "\n",
    "sns.countplot(x=\"gender\",data=df)\n",
    "plt.xlabel(\"Gender (0=female, 1=male)\")\n",
    "plt.show()"
   ]
  },
  {
   "cell_type": "code",
   "execution_count": null,
   "metadata": {},
   "outputs": [],
   "source": [
    "# Here gender=1(male) and target =1(have disease)\n",
    "\n",
    "male_disease = df[(df.gender==1) & (df.target==1)]   \n",
    "\n",
    "# Here gender=1(male) and target =0(have no disease )\n",
    "\n",
    "male_no_disease = df[(df.gender==1) & (df.target==0)]       \n",
    "\n",
    "print(len(male_disease),\"male_disease\")\n",
    "print(len(male_no_disease),\"male_no_disease\")"
   ]
  },
  {
   "cell_type": "code",
   "execution_count": null,
   "metadata": {},
   "outputs": [],
   "source": [
    "a=len(male_disease)\n",
    "b=len(male_no_disease)\n",
    "sns.barplot(x=['male_disease ','male_no_disease'],y=[a,b])\n",
    "plt.xlabel('Male and Target')\n",
    "plt.ylabel('Count')\n",
    "plt.title('Disease in Males')\n",
    "plt.show()"
   ]
  },
  {
   "cell_type": "code",
   "execution_count": null,
   "metadata": {},
   "outputs": [],
   "source": [
    "# Here gender=0(female) and target =1(have disease)\n",
    "\n",
    "female_disease = df[(df.gender==0) & (df.target==1)]       \n",
    "\n",
    "# Here gender=0(female) and target =0(have no disease )\n",
    "female_no_disease = df[(df.gender==0) & (df.target==0)]       \n",
    "\n",
    "print(len(female_disease),\"female_disease\")\n",
    "print(len(female_no_disease),\"female_no_disease\")"
   ]
  },
  {
   "cell_type": "code",
   "execution_count": null,
   "metadata": {},
   "outputs": [],
   "source": [
    "c=len(female_disease)\n",
    "d=len(female_no_disease)\n",
    "sns.barplot(x=['female_disease ','female_no_disease'],y=[c,d])\n",
    "plt.xlabel('Female and Target')\n",
    "plt.ylabel('Count')\n",
    "plt.title('Disease in Females')\n",
    "plt.show()"
   ]
  },
  {
   "cell_type": "code",
   "execution_count": null,
   "metadata": {},
   "outputs": [],
   "source": [
    "\"\"\"\n",
    "Let's do chest pain analysis\n",
    "\"\"\"\n",
    "df[\"cp\"].value_counts()"
   ]
  },
  {
   "cell_type": "code",
   "execution_count": null,
   "metadata": {
    "scrolled": true
   },
   "outputs": [],
   "source": [
    "\"\"\"\n",
    "Plotting chest pain according to severity\n",
    "\"\"\"\n",
    "sns.countplot(x='cp', data=df)\n",
    "plt.xlabel(\" Chest type\")\n",
    "plt.ylabel(\"Count\")\n",
    "plt.title(\"Chest type Vs count plot\")\n",
    "plt.show()"
   ]
  },
  {
   "cell_type": "code",
   "execution_count": null,
   "metadata": {},
   "outputs": [],
   "source": [
    "\"\"\"\n",
    "Within each chest pain category, let's see how many had \n",
    "the disease and how many didn't have the disease.\n",
    "\"\"\"\n",
    "print(len(df[(df.cp==0)&(df.target==0)]),\"=cp_zero_target_zero\")\n",
    "print(len(df[(df.cp==0)&(df.target==1)]),\"=cp_zero_target_one\")\n",
    "print(len(df[(df.cp==1)&(df.target==0)]),\"=cp_one_target_zero\")\n",
    "print(len(df[(df.cp==1)&(df.target==1)]),\"=cp_one_target_one\")"
   ]
  },
  {
   "cell_type": "code",
   "execution_count": null,
   "metadata": {},
   "outputs": [],
   "source": [
    "target_0=len(df[(df.cp==0)&(df.target==0)])\n",
    "target_1=len(df[(df.cp==0)&(df.target==1)])\n",
    "plt.subplot(1,2,1)\n",
    "sns.barplot(x=[\"target_0\",\"target_1\"],y=[target_0,target_1])\n",
    "plt.ylabel(\"Count\")\n",
    "plt.title(\"Chest_type_0 Vs count plot\")\n",
    "\n",
    "\n",
    "target_0=len(df[(df.cp==1)&(df.target==0)])\n",
    "target_1=len(df[(df.cp==1)&(df.target==1)])\n",
    "plt.subplot(1,2, 2)\n",
    "sns.barplot(x=[\"target_0\",\"target_1\"],y=[target_0,target_1])\n",
    "plt.ylabel(\"Count\")\n",
    "plt.title(\"Chest_type_1 Vs count plot\")"
   ]
  },
  {
   "cell_type": "code",
   "execution_count": null,
   "metadata": {},
   "outputs": [],
   "source": [
    "print(len(df[(df.cp==2)&(df.target==0)]),\"=cp_two_target_zero\")\n",
    "print(len(df[(df.cp==2)&(df.target==1)]),\"=cp_two_target_one\")\n",
    "print(len(df[(df.cp==3)&(df.target==0)]),\"=cp_three_target_zero\")\n",
    "print(len(df[(df.cp==3)&(df.target==1)]),\"=cp_three_target_one\")"
   ]
  },
  {
   "cell_type": "code",
   "execution_count": null,
   "metadata": {},
   "outputs": [],
   "source": [
    "target_0=len(df[(df.cp==2)&(df.target==0)])\n",
    "target_1=len(df[(df.cp==2)&(df.target==1)])\n",
    "plt.subplot(1,2,1)\n",
    "sns.barplot(x=[\"target_0\",\"target_1\"],y=[target_0,target_1])\n",
    "plt.ylabel(\"Count\")\n",
    "plt.title(\"Chest_type_2 Vs count plot\")\n",
    "\n",
    "\n",
    "target_0=len(df[(df.cp==3)&(df.target==0)])\n",
    "target_1=len(df[(df.cp==3)&(df.target==1)])\n",
    "plt.subplot(1,2, 2)\n",
    "sns.barplot(x=[\"target_0\",\"target_1\"],y=[target_0,target_1])\n",
    "plt.ylabel(\"Count\")\n",
    "plt.title(\"Chest_type_3 Vs count plot\")"
   ]
  },
  {
   "cell_type": "code",
   "execution_count": null,
   "metadata": {},
   "outputs": [],
   "source": [
    "\"\"\"\n",
    "Exploring relationship between age and cholestrol.\n",
    "\"\"\"\n",
    "age_unique=sorted(df.age.unique())\n",
    "age_chol_values=df.groupby('age')['chol'].count().values\n",
    "mean_chol=[]\n",
    "for i,age in enumerate(age_unique):\n",
    "    mean_chol.append(sum(df[df['age']==age].chol)/age_chol_values[i])\n",
    "    "
   ]
  },
  {
   "cell_type": "code",
   "execution_count": null,
   "metadata": {
    "scrolled": true
   },
   "outputs": [],
   "source": [
    "plt.figure(figsize=(10,5))\n",
    "sns.pointplot(x=age_unique,y=mean_chol,color='red',alpha=0.8)\n",
    "plt.xlabel('age',fontsize = 15,color='blue')\n",
    "plt.xticks(rotation=45)\n",
    "plt.ylabel('chol',fontsize = 15,color='blue')\n",
    "plt.title('age vs chol',fontsize = 15,color='blue')\n",
    "plt.grid()\n",
    "plt.show()"
   ]
  },
  {
   "cell_type": "code",
   "execution_count": null,
   "metadata": {},
   "outputs": [],
   "source": [
    "\"\"\"\n",
    "Since \"cp\", \"thal\" and \"slope\" columns are categorical \n",
    "variables. We will convert them into dummy variable.\n",
    "\"\"\"\n",
    "\n",
    "cp = pd.get_dummies(df['cp'], prefix = \"cp\", drop_first=True)\n",
    "thal = pd.get_dummies(df['thal'], prefix = \"thal\" , drop_first=True)\n",
    "slope = pd.get_dummies(df['slope'], prefix = \"slope\", drop_first=True)\n"
   ]
  },
  {
   "cell_type": "code",
   "execution_count": null,
   "metadata": {},
   "outputs": [],
   "source": [
    "data = pd.concat([df, cp, thal, slope], axis=1)\n",
    "data.head()"
   ]
  },
  {
   "cell_type": "code",
   "execution_count": null,
   "metadata": {},
   "outputs": [],
   "source": [
    "\"\"\"\n",
    "Let's drop old \"cp\", \"thal\" and \"slope\" columns\n",
    "\"\"\"\n",
    "data.drop([\"cp\", \"thal\", \"slope\"], axis=1, inplace=True)\n",
    "data.head()"
   ]
  },
  {
   "cell_type": "code",
   "execution_count": null,
   "metadata": {},
   "outputs": [],
   "source": [
    "x = data.drop(['target'], axis=1)\n",
    "y = data.target"
   ]
  },
  {
   "cell_type": "code",
   "execution_count": null,
   "metadata": {},
   "outputs": [],
   "source": [
    "print(x.shape)"
   ]
  },
  {
   "cell_type": "code",
   "execution_count": null,
   "metadata": {},
   "outputs": [],
   "source": [
    "x.corr()"
   ]
  },
  {
   "cell_type": "code",
   "execution_count": null,
   "metadata": {},
   "outputs": [],
   "source": [
    "\"\"\"\n",
    "Normalizing x\n",
    "\"\"\"\n",
    "\n",
    "x = (x - x.min())/(x.max()-x.min())\n",
    "x.head()"
   ]
  },
  {
   "cell_type": "code",
   "execution_count": null,
   "metadata": {},
   "outputs": [],
   "source": [
    "from sklearn.model_selection import train_test_split\n",
    "x_train, x_test, y_train, y_test = train_test_split(x, y, test_size=0.2, random_state=2)"
   ]
  },
  {
   "cell_type": "code",
   "execution_count": null,
   "metadata": {},
   "outputs": [],
   "source": [
    "from sklearn.linear_model import LogisticRegression\n",
    "\n",
    "logi = LogisticRegression(C=1, penalty='l2')\n",
    "logi.fit(x_train, y_train)\n",
    "logi.score(x_test, y_test)"
   ]
  },
  {
   "cell_type": "code",
   "execution_count": null,
   "metadata": {},
   "outputs": [],
   "source": [
    "from sklearn.metrics import confusion_matrix\n",
    "cm_lg = confusion_matrix(y_test, logi.predict(x_test))\n",
    "print(cm_lg)"
   ]
  },
  {
   "cell_type": "code",
   "execution_count": null,
   "metadata": {},
   "outputs": [],
   "source": [
    "\"\"\"\n",
    "Decision Tree\n",
    "\"\"\"\n",
    "\n",
    "from sklearn.tree import DecisionTreeClassifier\n",
    "dtree=DecisionTreeClassifier()\n",
    "dtree.fit(x_train,y_train)                        "
   ]
  },
  {
   "cell_type": "code",
   "execution_count": null,
   "metadata": {},
   "outputs": [],
   "source": [
    "predict=dtree.predict(x_test)                               \n",
    "predict"
   ]
  },
  {
   "cell_type": "code",
   "execution_count": null,
   "metadata": {
    "scrolled": false
   },
   "outputs": [],
   "source": [
    "from sklearn.metrics import classification_report,confusion_matrix\n",
    "print(classification_report(y_test,predict))\n",
    "\n",
    "\n",
    "from sklearn.metrics import confusion_matrix\n",
    "cm_tree = confusion_matrix(y_test,predict )\n",
    "\n",
    "print(cm_tree)"
   ]
  },
  {
   "cell_type": "code",
   "execution_count": null,
   "metadata": {},
   "outputs": [],
   "source": [
    "from sklearn.metrics import accuracy_score\n",
    "print(\"Accuracy is:\",accuracy_score(y_test,predict)*100)    #HERE WE ARE GETTING OUR ACCURACY OF OUR MODEL"
   ]
  },
  {
   "cell_type": "code",
   "execution_count": null,
   "metadata": {},
   "outputs": [],
   "source": [
    "\"\"\"\n",
    "Random Forest\n",
    "\"\"\"\n",
    "from sklearn.ensemble import RandomForestClassifier\n",
    "rfc=RandomForestClassifier(n_estimators=100)\n",
    "rfc.fit(x_train,y_train)"
   ]
  },
  {
   "cell_type": "code",
   "execution_count": null,
   "metadata": {},
   "outputs": [],
   "source": [
    "rfc_predict=rfc.predict(x_test)                                "
   ]
  },
  {
   "cell_type": "code",
   "execution_count": null,
   "metadata": {},
   "outputs": [],
   "source": [
    "from sklearn.metrics import confusion_matrix\n",
    "cm_rf = confusion_matrix(y_test,rfc_predict )\n",
    "\n",
    "print(cm_rf)\n",
    "print(classification_report(y_test,rfc_predict))"
   ]
  },
  {
   "cell_type": "code",
   "execution_count": null,
   "metadata": {},
   "outputs": [],
   "source": [
    "print(\"Accuracy is:\",accuracy_score(y_test,rfc_predict)*100)    "
   ]
  },
  {
   "cell_type": "code",
   "execution_count": null,
   "metadata": {},
   "outputs": [],
   "source": []
  }
 ],
 "metadata": {
  "kernelspec": {
   "display_name": "Python 3",
   "language": "python",
   "name": "python3"
  },
  "language_info": {
   "codemirror_mode": {
    "name": "ipython",
    "version": 3
   },
   "file_extension": ".py",
   "mimetype": "text/x-python",
   "name": "python",
   "nbconvert_exporter": "python",
   "pygments_lexer": "ipython3",
   "version": "3.7.4"
  }
 },
 "nbformat": 4,
 "nbformat_minor": 2
}
