{
 "cells": [
  {
   "cell_type": "code",
   "execution_count": 17,
   "metadata": {},
   "outputs": [
    {
     "name": "stdout",
     "output_type": "stream",
     "text": [
      "Populating the interactive namespace from numpy and matplotlib\n"
     ]
    }
   ],
   "source": [
    "import pandas as pd\n",
    "%pylab inline"
   ]
  },
  {
   "cell_type": "code",
   "execution_count": 18,
   "metadata": {},
   "outputs": [],
   "source": [
    "df = pd.read_csv(\"Titanic.csv\")"
   ]
  },
  {
   "cell_type": "code",
   "execution_count": 19,
   "metadata": {},
   "outputs": [
    {
     "name": "stdout",
     "output_type": "stream",
     "text": [
      "Index(['PassengerId', 'Survived', 'Pclass', 'Name', 'Sex', 'Age', 'SibSp',\n",
      "       'Parch', 'Ticket', 'Fare', 'Cabin', 'Embarked'],\n",
      "      dtype='object')\n",
      "0.0 512.3292\n"
     ]
    }
   ],
   "source": [
    "print(df.columns)\n",
    "print(df['Fare'].min(), df['Fare'].max())"
   ]
  },
  {
   "cell_type": "code",
   "execution_count": 20,
   "metadata": {},
   "outputs": [],
   "source": [
    "x = pd.DataFrame()\n",
    "x['gender'] = df['Sex']\n",
    "x['age'] = df['Age']\n",
    "x['fare'] = df[\"Fare\"]\n",
    "x['survived'] = df['Survived']"
   ]
  },
  {
   "cell_type": "code",
   "execution_count": 21,
   "metadata": {},
   "outputs": [
    {
     "name": "stdout",
     "output_type": "stream",
     "text": [
      "Index(['gender', 'age', 'fare', 'survived'], dtype='object')\n",
      "0      male\n",
      "1    female\n",
      "2    female\n",
      "3    female\n",
      "4      male\n",
      "Name: gender, dtype: object\n",
      "0    0\n",
      "1    1\n",
      "2    1\n",
      "3    1\n",
      "4    0\n",
      "Name: gender, dtype: int64\n"
     ]
    }
   ],
   "source": [
    "print(x.columns)\n",
    "print(x['gender'].head())\n",
    "\n",
    "gender = {\"male\":0, \"female\":1}\n",
    "x.gender = [gender[item] for item in x.gender]\n",
    "print(x['gender'].head())"
   ]
  },
  {
   "cell_type": "code",
   "execution_count": 22,
   "metadata": {},
   "outputs": [
    {
     "name": "stdout",
     "output_type": "stream",
     "text": [
      "   gender   age     fare  survived\n",
      "0       0  22.0   7.2500         0\n",
      "1       1  38.0  71.2833         1\n",
      "2       1  26.0   7.9250         1\n",
      "3       1  35.0  53.1000         1\n",
      "4       0  35.0   8.0500         0\n",
      "(891, 4)\n"
     ]
    }
   ],
   "source": [
    "print(x[0:5])\n",
    "print(x.shape)"
   ]
  },
  {
   "cell_type": "code",
   "execution_count": 23,
   "metadata": {},
   "outputs": [
    {
     "name": "stdout",
     "output_type": "stream",
     "text": [
      "(714, 4)\n"
     ]
    }
   ],
   "source": [
    "x = x.dropna(axis=0)\n",
    "print(x.shape)"
   ]
  },
  {
   "cell_type": "code",
   "execution_count": 24,
   "metadata": {},
   "outputs": [],
   "source": [
    "y = x['survived']\n",
    "x = x.drop(['survived'], axis=1)"
   ]
  },
  {
   "cell_type": "code",
   "execution_count": 25,
   "metadata": {},
   "outputs": [],
   "source": [
    "from sklearn.model_selection import train_test_split\n",
    "from sklearn.preprocessing import StandardScaler\n",
    "scaler = StandardScaler()\n",
    "x = scaler.fit_transform(x)"
   ]
  },
  {
   "cell_type": "code",
   "execution_count": 26,
   "metadata": {},
   "outputs": [],
   "source": [
    "x_train, x_test, y_train, y_test = train_test_split(x, y, test_size = 0.2, random_state=42)"
   ]
  },
  {
   "cell_type": "code",
   "execution_count": 27,
   "metadata": {},
   "outputs": [],
   "source": [
    "# this function looks for female in the test set and returns 1, survived, \n",
    "# otherwise it returns 0\n",
    "# we expect that everyone will die\n",
    "# Base rate model\n",
    "def base_rate_model(x):\n",
    "    y = np.zeros(x.shape[0])\n",
    "    return y"
   ]
  },
  {
   "cell_type": "code",
   "execution_count": 28,
   "metadata": {},
   "outputs": [
    {
     "name": "stdout",
     "output_type": "stream",
     "text": [
      "Base rate accuracy is: 0.61\n"
     ]
    }
   ],
   "source": [
    "# what is the accuracy of base rate model?\n",
    "y_base_rate  = base_rate_model(x_test)\n",
    "from sklearn.metrics import accuracy_score\n",
    "print(\"Base rate accuracy is: %0.2f\" %(accuracy_score(y_test, y_base_rate)))"
   ]
  },
  {
   "cell_type": "code",
   "execution_count": 29,
   "metadata": {},
   "outputs": [
    {
     "name": "stdout",
     "output_type": "stream",
     "text": [
      "[0. 0. 0. 0. 0.]\n",
      "++++++++++++++\n",
      "149    0\n",
      "407    1\n",
      "53     1\n",
      "369    1\n",
      "818    0\n",
      "Name: survived, dtype: int64\n"
     ]
    }
   ],
   "source": [
    "print(y_base_rate[0:5])\n",
    "print(\"++++++++++++++\")\n",
    "print(y_test[0:5])"
   ]
  },
  {
   "cell_type": "code",
   "execution_count": 30,
   "metadata": {},
   "outputs": [],
   "source": [
    "from sklearn.linear_model import LogisticRegression\n",
    "model = LogisticRegression(penalty='l2', C=1)"
   ]
  },
  {
   "cell_type": "code",
   "execution_count": 31,
   "metadata": {},
   "outputs": [
    {
     "data": {
      "text/plain": [
       "LogisticRegression(C=1, class_weight=None, dual=False, fit_intercept=True,\n",
       "          intercept_scaling=1, max_iter=100, multi_class='ovr', n_jobs=1,\n",
       "          penalty='l2', random_state=None, solver='liblinear', tol=0.0001,\n",
       "          verbose=0, warm_start=False)"
      ]
     },
     "execution_count": 31,
     "metadata": {},
     "output_type": "execute_result"
    }
   ],
   "source": [
    "model.fit(x_train, y_train)"
   ]
  },
  {
   "cell_type": "code",
   "execution_count": 32,
   "metadata": {},
   "outputs": [
    {
     "name": "stdout",
     "output_type": "stream",
     "text": [
      "Logistic accuracy is 0.75\n"
     ]
    }
   ],
   "source": [
    "print(\"Logistic accuracy is %0.2f\" %accuracy_score(y_test, model.predict(x_test)))"
   ]
  },
  {
   "cell_type": "markdown",
   "metadata": {},
   "source": [
    "Model comparison\n",
    "\n",
    "Our base model wasn't very good, but it looked better than it was becasue of class imbalance. There are many more 0s than 1s in our dataset.\n",
    "\n",
    "Area under the curve, AUC is a better metric.\n",
    "Closely related are precision and recall.\n",
    "\n",
    "Precision is the fraction of correctly identified examples of a class (ratio of true positives to all positivies).\n",
    "\n",
    "Recall is the fraction of observations classified in that class that was correctly classified.\n",
    "\n",
    "Think of fishing with a net for tuna:\n",
    "\n",
    "If our net is very precise and has high recall - it will catch any and all tuna and only tuna.\n",
    "\n",
    "If our net is very precise, but has low recall then we might catch one tuna, but most will escape.\n",
    "\n",
    "If our net is low precision, but has high recall, then we might catch tuae, but also any other fish around.\n",
    "\n",
    "If our net is low precision, and low recall, then we should probably give up fishing."
   ]
  },
  {
   "cell_type": "code",
   "execution_count": 33,
   "metadata": {},
   "outputs": [],
   "source": [
    "from sklearn.metrics import roc_auc_score\n",
    "from sklearn.metrics import classification_report"
   ]
  },
  {
   "cell_type": "code",
   "execution_count": 34,
   "metadata": {},
   "outputs": [
    {
     "name": "stdout",
     "output_type": "stream",
     "text": [
      "-----Base Model-----\n",
      "Base Rate AUC = 0.74\n",
      "             precision    recall  f1-score   support\n",
      "\n",
      "          0       0.79      0.79      0.79        87\n",
      "          1       0.68      0.68      0.68        56\n",
      "\n",
      "avg / total       0.75      0.75      0.75       143\n",
      "\n",
      "-----Logistic Model-----\n",
      "Logistic AUC = 0.74\n",
      "             precision    recall  f1-score   support\n",
      "\n",
      "          0       0.79      0.79      0.79        87\n",
      "          1       0.68      0.68      0.68        56\n",
      "\n",
      "avg / total       0.75      0.75      0.75       143\n",
      "\n"
     ]
    }
   ],
   "source": [
    "print(\"-----Base Model-----\")\n",
    "#base_roc_auc = roc_auc_score(y_test, base_rate_model(x_test))\n",
    "base_roc_auc = roc_auc_score(y_test, model.predict(x_test))\n",
    "\n",
    "print(\"Base Rate AUC = %0.2f\" %base_roc_auc)\n",
    "#print(classification_report(y_test, base_rate_model(x_test)))\n",
    "print(classification_report(y_test, model.predict(x_test)))\n",
    "\n",
    "print(\"-----Logistic Model-----\")\n",
    "logit_roc_auc = roc_auc_score(y_test, model.predict(x_test))\n",
    "print(\"Logistic AUC = %0.2f\" %logit_roc_auc)\n",
    "print(classification_report(y_test, model.predict(x_test)))"
   ]
  },
  {
   "cell_type": "code",
   "execution_count": 35,
   "metadata": {},
   "outputs": [],
   "source": [
    "from sklearn.metrics import roc_curve\n",
    "fpr, tpr, threshold = roc_curve(y_test, model.predict_proba(x_test)[:,1])"
   ]
  },
  {
   "cell_type": "code",
   "execution_count": 36,
   "metadata": {},
   "outputs": [
    {
     "data": {
      "image/png": "[encoded data removed]",
      "text/plain": [
       "<matplotlib.figure.Figure at 0x1b87b0e4fd0>"
      ]
     },
     "metadata": {},
     "output_type": "display_data"
    }
   ],
   "source": [
    "# plotting ROC curve\n",
    "import matplotlib.pyplot as plt\n",
    "plt.figure()\n",
    "plt.plot(fpr, tpr, label='ROC curve (area = %0.2f)' %logit_roc_auc)\n",
    "plt.plot([0,1], [0,1], 'k--')\n",
    "plt.xlim([0.0, 1.0])\n",
    "plt.ylim([0.0, 1.0])\n",
    "plt.xlabel('False Positive Rate')\n",
    "plt.ylabel('True Positive Rate')\n",
    "plt.title('Receiver operating characteristic example')\n",
    "plt.legend(loc=\"lower right\")\n",
    "plt.show()"
   ]
  },
  {
   "cell_type": "markdown",
   "metadata": {
    "collapsed": true
   },
   "source": [
    "#### Important observation about precision and recall\n",
    "\n",
    "We want high precision when a good email will not be \n",
    "classified as spam while allowing a spam email to the inbox is okay.\n",
    "\n",
    "When we are screeing patients for a disease, we don't want to have more \n",
    "false negatives as this means patients that are in need are not getting treatment. "
   ]
  },
  {
   "cell_type": "code",
   "execution_count": null,
   "metadata": {},
   "outputs": [],
   "source": []
  }
 ],
 "metadata": {
  "kernelspec": {
   "display_name": "Python 3",
   "language": "python",
   "name": "python3"
  },
  "language_info": {
   "codemirror_mode": {
    "name": "ipython",
    "version": 3
   },
   "file_extension": ".py",
   "mimetype": "text/x-python",
   "name": "python",
   "nbconvert_exporter": "python",
   "pygments_lexer": "ipython3",
   "version": "3.5.2"
  },
  "widgets": {
   "state": {},
   "version": "1.1.2"
  }
 },
 "nbformat": 4,
 "nbformat_minor": 2
}
