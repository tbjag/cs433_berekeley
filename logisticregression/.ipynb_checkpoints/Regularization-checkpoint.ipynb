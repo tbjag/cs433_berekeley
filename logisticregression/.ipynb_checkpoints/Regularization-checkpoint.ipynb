{
 "cells": [
  {
   "cell_type": "markdown",
   "metadata": {},
   "source": [
    "Important note: Please have this notebook in your Linear Regression Folder"
   ]
  },
  {
   "cell_type": "markdown",
   "metadata": {},
   "source": [
    "Bias and Variance: \n",
    "\n",
    "Two common problems with model. \n",
    "\n",
    "Over-fitting - the model fits the training data but fails to establish a relationship among the features and perfroms poorly on the test data. \n",
    "\n",
    "Underfitting - the model neither fits the training data nor the test data. \n",
    "    \n",
    "<img src =\"various_fits.png\", width = 400, height = 300> \n",
    "\n",
    "Bias measures how far we are from the actual value. \n",
    "\n",
    "Variance measures spread of the target values from the mean of actual values. \n",
    "\n",
    "<img src =\"bias_variance.png\", width = 400, height = 300> "
   ]
  },
  {
   "cell_type": "markdown",
   "metadata": {},
   "source": [
    "Regularization is a technique to overcome both overfitting or underfitting of the data. \n",
    "\n",
    "If $L$ represents the loss function then our goal is to \n",
    "\n",
    "minimize $(L) + regularization term $ with different norms:\n",
    "\n",
    "L1 norm: $\\frac{\\lambda}{2} ||w||_1 = \\frac{\\lambda}{2}  \\sum |w_j| $\n",
    "\n",
    "L2 norm: $\\frac{\\lambda}{2} ||w||^2 = \\frac{\\lambda}{2}  \\sum w^2_j $\n",
    "\n",
    "where $w$ is a matrix that contains both $m$ and $b$ and $\\lambda$ is a regularization parameter. In sklearn, instead of $\\lambda$ we use $C = \\frac{1}{\\lambda} $ which should be a float. "
   ]
  },
  {
   "cell_type": "code",
   "execution_count": null,
   "metadata": {},
   "outputs": [],
   "source": [
    "from sklearn.linear_model import lasso\n",
    "\n",
    "reg_lasso = Lasson(alpha = 0.2, normalize=True)\n"
   ]
  }
 ],
 "metadata": {
  "kernelspec": {
   "display_name": "Python 3",
   "language": "python",
   "name": "python3"
  },
  "language_info": {
   "codemirror_mode": {
    "name": "ipython",
    "version": 3
   },
   "file_extension": ".py",
   "mimetype": "text/x-python",
   "name": "python",
   "nbconvert_exporter": "python",
   "pygments_lexer": "ipython3",
   "version": "3.5.2"
  },
  "widgets": {
   "state": {},
   "version": "1.1.2"
  }
 },
 "nbformat": 4,
 "nbformat_minor": 2
}
