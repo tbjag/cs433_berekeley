{
 "cells": [
  {
   "cell_type": "markdown",
   "metadata": {},
   "source": [
    "#### Naive Bayes\n",
    "\n",
    "Is a supervised classification algorithm.\n",
    "\n",
    "Before we jump into Naive Bayes let's review a few probability concepts.\n",
    "\n"
   ]
  },
  {
   "cell_type": "markdown",
   "metadata": {},
   "source": [
    "If A and B are two events of an experiment then\n",
    "\n",
    "1) $ 0 \\leq P(A) \\leq 1 $ likewise $ 0 \\leq P(B) \\leq 1.$\n",
    "\n",
    "2) $ P(A) + P(B) = 1.$\n",
    "\n",
    "3) $ P(A') = 1 - P(A) $ here $A'$ is the complement of A. Some use $A^{c}$ to represent complement of A.\n",
    "\n",
    "\n",
    "If we flip two coins then what is the probability of:\n",
    "\n",
    "1) Getting two heads.\n",
    "\n",
    "2) One head and one tail.\n",
    "\n",
    "3) At least one tail."
   ]
  },
  {
   "cell_type": "code",
   "execution_count": null,
   "metadata": {},
   "outputs": [],
   "source": [
    "\"\"\"\n",
    "In-class activity: If you roll two die, what is the probability of:\n",
    "\n",
    "1) Getting two even numbers.\n",
    "\n",
    "2) Getting a sum of 7.\n",
    "\n",
    "3) Getting a sum divisible by 5.\n",
    "\"\"\""
   ]
  },
  {
   "cell_type": "markdown",
   "metadata": {},
   "source": [
    "If two events are independent then\n",
    "\n",
    "$ P(A \\cap B) = P(A)*P(B).$\n",
    "\n",
    "\n",
    "\n",
    "Let's consider a few examples:\n",
    "\n",
    "1) Two cards are drawn from a deck of 52 cards with replacement. What is the probability of choosing a king and then a nine?\n",
    "\n",
    "2) A bowl contains 3 red, 4 green and 8 blue marbles. Three marbles are drawn from the bowl with replacement. What is the probability of choosing a blue, a red and a green?\n"
   ]
  },
  {
   "cell_type": "code",
   "execution_count": null,
   "metadata": {},
   "outputs": [],
   "source": [
    "\"\"\"\n",
    "In-class activity: If you roll two die, what is the probability of:\n",
    "\n",
    "1) Getting a 4 on the first roll and a 3 on the second roll.\n",
    "\n",
    "2) Getting an even number on the first roll and a number divisible by 3.\n",
    "\n",
    "3) Getting a sum divisible by 5 or a sum divisible by 6\n",
    "\"\"\""
   ]
  },
  {
   "cell_type": "markdown",
   "metadata": {},
   "source": [
    "Conditional probability of A given B is\n",
    "    \n",
    "$ P(A|B) = \\frac{P(A \\cap B)}{P(A)} $\n",
    "\n",
    "Let's consider a few examples:\n",
    "\n",
    "1) If you pick a card from a deck of 52 cards, then what is the probability of getting an ace given it is a diamond?\n",
    "\n",
    "2) Consider the table below. What is the probability that a person chosen at random from the below group is a teacher given that they are a female?\n",
    "\n",
    "<img src=\"conditional1.png\", width=300, height=200>"
   ]
  },
  {
   "cell_type": "code",
   "execution_count": null,
   "metadata": {},
   "outputs": [],
   "source": [
    "\"\"\"\n",
    "In-class activity: If you roll a dice once, what is the probability of:\n",
    "\n",
    "1) Getting a 4 given that the outcome is even. \n",
    "\n",
    "2) Getting 4 given that the outcome is odd.\n",
    "\n",
    "3) Getting 6 given that the outcome is divisible by 3. \n",
    "\"\"\""
   ]
  },
  {
   "cell_type": "markdown",
   "metadata": {},
   "source": [
    "#### Naive Bayes\n",
    "\n",
    "Is a probabilistic classifier technique.\n",
    "\n",
    "It is fast and scalable. Used for binary and for multi class classification. \n",
    "\n",
    "It assumes that every feature is unrealted to other features.\n",
    "This is the disadvantage of this model as in real life, features might not be unrelated to each other. \n",
    "\n",
    "\n",
    "Where is Naive Bayes used:\n",
    "\n",
    "1) Text classification\n",
    "\n",
    "2) Recommendation system\n",
    "\n",
    "3) Weather forecasting and more."
   ]
  },
  {
   "cell_type": "markdown",
   "metadata": {},
   "source": [
    "#### Naive Bayes formula\n",
    "\n",
    "<img src=\"bayes1.png\", width = 300, height=200>\n",
    "\n",
    "<img src=\"bayes1.png\", width = 300, height=200>\n",
    "\n",
    "\n",
    "References:\n",
    "https://www.machinelearningplus.com/predictive-modeling/how-naive-bayes-algorithm-works-with-example-and-full-code/"
   ]
  },
  {
   "cell_type": "markdown",
   "metadata": {},
   "source": [
    "Let's consider the golf data set.\n",
    "\n",
    "<img src=\"golf.png\">\n",
    "\n",
    "Let's create a likelihood table\n",
    "\n",
    "<img src=\"likelihood.png\"> "
   ]
  },
  {
   "cell_type": "markdown",
   "metadata": {},
   "source": [
    "We want to check the claim: Players will play if the weather is Rainy. \n",
    "\n",
    "$P(yes | rainy) = \\frac{P(rainy | yes) * P(yes)}{P(rainy)} $\n",
    "\n",
    "From the table we know \n",
    "\n",
    "$p(rainy) = 5/14 = 0.36$\n",
    "\n",
    "$p(yes) = 9/14 = 0.64 $\n",
    "\n",
    "$p(rainy | yes) = 2/14 = 0.14$\n",
    "\n",
    "let's plug these values into the Bayes equation.\n",
    "\n",
    "$ P(yes | rainy) = \\frac{0.14 * 0.64}{0.36} = 0.248 = 24.8 % $ \n",
    "\n",
    "This probability is very low, the claim is false. That means, players are very unlikely to play when the weather is rainy.\n"
   ]
  },
  {
   "cell_type": "code",
   "execution_count": null,
   "metadata": {},
   "outputs": [],
   "source": [
    "\"\"\"\n",
    "In-class activity: Using the above table can you compute the probability \n",
    "for the following:\n",
    "\n",
    "1) Claim: Players will not play when the weather is overcast.\n",
    "\n",
    "2) Claim: Players will play when the weather is sunny. \n",
    "\"\"\"\n"
   ]
  },
  {
   "cell_type": "code",
   "execution_count": null,
   "metadata": {},
   "outputs": [],
   "source": [
    "%matplotlib inline\n",
    "import numpy as np\n",
    "import matplotlib.pyplot as plt\n",
    "import seaborn as sns; sns.set()"
   ]
  },
  {
   "cell_type": "code",
   "execution_count": null,
   "metadata": {},
   "outputs": [],
   "source": [
    "from sklearn import datasets\n",
    "\n",
    "#Load dataset\n",
    "iris = datasets.load_iris()"
   ]
  },
  {
   "cell_type": "code",
   "execution_count": null,
   "metadata": {},
   "outputs": [],
   "source": [
    "print(type(iris))"
   ]
  },
  {
   "cell_type": "code",
   "execution_count": null,
   "metadata": {},
   "outputs": [],
   "source": [
    "from sklearn.model_selection import train_test_split"
   ]
  },
  {
   "cell_type": "code",
   "execution_count": null,
   "metadata": {},
   "outputs": [],
   "source": [
    "x_train, x_test, y_train, y_test = train_test_split(iris.data, iris.target, test_size = 0.2, random_state=1)"
   ]
  },
  {
   "cell_type": "code",
   "execution_count": null,
   "metadata": {},
   "outputs": [],
   "source": [
    "#Import Gaussian Naive Bayes model\n",
    "from sklearn.naive_bayes import GaussianNB\n",
    "\n",
    "#Create a Gaussian Classifier\n",
    "gnb = GaussianNB()\n",
    "\n",
    "#Train the model using the training sets\n",
    "gnb.fit(x_train, y_train)\n",
    "\n",
    "#Predict the response for test dataset\n",
    "y_pred = gnb.predict(x_test)"
   ]
  },
  {
   "cell_type": "code",
   "execution_count": null,
   "metadata": {},
   "outputs": [],
   "source": [
    "#Import scikit-learn metrics module for accuracy calculation\n",
    "from sklearn import metrics\n",
    "\n",
    "# Model Accuracy, how often is the classifier correct?\n",
    "print(\"Accuracy:\",metrics.accuracy_score(y_test, y_pred))"
   ]
  },
  {
   "cell_type": "code",
   "execution_count": null,
   "metadata": {},
   "outputs": [],
   "source": [
    "\"\"\"\n",
    "In-class activity:\n",
    "\n",
    "Apply Naive Bayes to the income dataset that you used for the last \n",
    "homework 2 and find the accuracy.\n",
    "\"\"\""
   ]
  }
 ],
 "metadata": {
  "kernelspec": {
   "display_name": "Python 3",
   "language": "python",
   "name": "python3"
  },
  "language_info": {
   "codemirror_mode": {
    "name": "ipython",
    "version": 3
   },
   "file_extension": ".py",
   "mimetype": "text/x-python",
   "name": "python",
   "nbconvert_exporter": "python",
   "pygments_lexer": "ipython3",
   "version": "3.5.2"
  },
  "widgets": {
   "state": {},
   "version": "1.1.2"
  }
 },
 "nbformat": 4,
 "nbformat_minor": 2
}
